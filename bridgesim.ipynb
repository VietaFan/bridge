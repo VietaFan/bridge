{
 "cells": [
  {
   "cell_type": "code",
   "execution_count": 2,
   "metadata": {},
   "outputs": [],
   "source": [
    "import random\n",
    "ranks = '23456789TJQKA'\n",
    "suits = 'CDHS'\n",
    "def deal_hands():\n",
    "    deck = [x+y for x in ranks for y in suits]\n",
    "    random.shuffle(deck)\n",
    "    return tuple(sorted(deck[n:n+13],key=hand_sort_key) for n in range(0,52,13))\n",
    "rank_map = {}\n",
    "hcp_map = {}\n",
    "for i in range(13):\n",
    "    rank_map[ranks[i]] = i\n",
    "    hcp_map[ranks[i]] = max(0,i-8)\n",
    "suit_map = {'C':0,'D':13,'H':26,'S':39}\n",
    "hand_sort_key = lambda x: rank_map[x[0]]+suit_map[x[1]]\n",
    "hand_sort = lambda x: sorted(x,key=hand_sort_key)"
   ]
  },
  {
   "cell_type": "code",
   "execution_count": 3,
   "metadata": {},
   "outputs": [
    {
     "data": {
      "text/plain": [
       "'AKQJT98765432'"
      ]
     },
     "execution_count": 3,
     "metadata": {},
     "output_type": "execute_result"
    }
   ],
   "source": [
    "ranks[::-1]"
   ]
  },
  {
   "cell_type": "code",
   "execution_count": 12,
   "metadata": {},
   "outputs": [],
   "source": [
    "def suit_counts(hand):\n",
    "    counts = {'C':0,'D':0,'H':0,'S':0}\n",
    "    for card in hand:\n",
    "        counts[card[1]] += 1\n",
    "    return counts\n",
    "def hcp(hand):\n",
    "    return sum([hcp_map[card[0]] for card in hand])\n",
    "def lengthpts(hand):\n",
    "    return sum([max(0,x-4) for x in suit_counts(hand).values()])\n",
    "def supportpts(hand, trump):\n",
    "    counts = suit_counts(hand)\n",
    "    if counts[trump] == 3:\n",
    "        return sum([max(0,3-x) for x in counts])\n",
    "    elif counts[trump] >= 4:\n",
    "        return sum([max(0,5-2*x) for x in counts])\n",
    "    else:\n",
    "        return 0\n",
    "def stopper_counts(hand):\n",
    "    ''' lower bound, excludes half-stoppers '''\n",
    "    suits = {'C':'', 'D':'', 'H':'', 'S':''}\n",
    "    for card in hand_sort(hand):\n",
    "        suits[card[1]] += card[0]\n",
    "    stoppers = {}\n",
    "    for suit in 'CDHS':\n",
    "        mine = suits[suit][::-1]\n",
    "        full = ranks[::-1]\n",
    "        other = ''\n",
    "        for card in full:\n",
    "            if card not in mine:\n",
    "                other += card\n",
    "        my_ranks = [rank_map[x] for x in mine]\n",
    "        other_ranks = [rank_map[x] for x in other]\n",
    "        stoppers[suit] = 0\n",
    "        opos = 0\n",
    "        while len(other_ranks) < len(my_ranks):\n",
    "            other_ranks.append(-1)\n",
    "        for i in range(len(mine)):\n",
    "            if my_ranks[i] > other_ranks[opos]:\n",
    "                stoppers[suit] += 1\n",
    "            else:\n",
    "                opos += 1\n",
    "    return stoppers"
   ]
  },
  {
   "cell_type": "code",
   "execution_count": 19,
   "metadata": {},
   "outputs": [
    {
     "name": "stdout",
     "output_type": "stream",
     "text": [
      "['2C', '9C', 'JC', 'QC', 'AC', '6D', 'QD', '2H', '5H', '8S', '9S', 'KS', 'AS'] {'C': 2, 'D': 0, 'H': 0, 'S': 2}\n",
      "['4C', '6C', '7C', '2D', '3D', '7D', '8D', '8H', 'TH', 'AH', '4S', '6S', 'TS'] {'C': 0, 'D': 0, 'H': 1, 'S': 0}\n",
      "['5C', 'KC', '5D', '9D', 'AD', '3H', '4H', '6H', '9H', '2S', '3S', '5S', 'JS'] {'C': 0, 'D': 1, 'H': 0, 'S': 0}\n",
      "['3C', '8C', 'TC', '4D', 'TD', 'JD', 'KD', '7H', 'JH', 'QH', 'KH', '7S', 'QS'] {'C': 0, 'D': 1, 'H': 2, 'S': 0}\n",
      "{'C': 1, 'D': 2, 'H': 0, 'S': 1}\n"
     ]
    }
   ],
   "source": [
    "hands = deal_hands()\n",
    "\n",
    "for hand in hands:\n",
    "    print(hand, stopper_counts(hand))\n",
    "h = ['KC','QC', 'QD', 'JD', 'TD', '9D', '3H', '5H', '7H', 'JS','TS', '9S', '8S']\n",
    "print(stopper_counts(h))"
   ]
  },
  {
   "cell_type": "code",
   "execution_count": 32,
   "metadata": {},
   "outputs": [],
   "source": [
    "def make_bid1(hand, bids, with_description=False):\n",
    "    ''' uses most of the conventions+system we're using\n",
    "    (2/1 game forcing, 5 card majors, weak 2-bids, Stayman, etc) '''\n",
    "    mine = bids[::4]\n",
    "    lopp = bids[1::4]\n",
    "    partner = bids[2::4]\n",
    "    ropp = bids[3::4]\n",
    "    my_hcp = hcp(hand)\n",
    "    points = my_hcp + lengthpts(hand)\n",
    "    counts = suit_counts(hand)\n",
    "    stoppers = stopper_counts(hand)\n",
    "    long_major = 'H' if counts['H'] >= counts['S'] else 'S' # defaults to hearts if tie, important for Stayman\n",
    "    long_minor = 'C' if counts['C'] >= counts['D'] else 'D'\n",
    "    # opening case\n",
    "    if bids == ['pass']*len(bids):\n",
    "        if points >= 22:\n",
    "            return ('2C', 'strong 2 clubs') if with_description else '2C'\n",
    "        if counts[long_major] >= 5 and points >= 13: # normal opening\n",
    "            return ('1'+long_major, 'standard 1-level major opening') if with_description else '1'+long_major\n",
    "        if counts[long_major] == 6 and 5 <= my_hcp <= 11:\n",
    "            return ('2'+long_major, 'weak 2-bid, major suit') if with_description else '2'+long_major \n",
    "        if counts['D'] == 6 and 5 <= my_hcp <= 11:\n",
    "            return ('2D', 'weak 2-bid, diamonds') if with_description else '2D' \n",
    "        if counts[long_major] < 5: # long_minor must have at least 3 by pigeonhole\n",
    "            if 13 <= points <= 14:\n",
    "                return ('1'+long_minor, '1-level minor opening, no major suit') if with_description else '1'+long_minor\n",
    "            elif 15 <= points <= 17:\n",
    "                return ('1N', 'standard 1 no-trump opening (15-17 hcp)') if with_description else '1N'\n",
    "            elif 18 <= points <= 19:\n",
    "                return ('1'+long_minor, 'no man\\'s land minor opening, balanced + 18-19 points') if with_description else '1'+long_minor\n",
    "            elif 20 <= points <= 21:\n",
    "                return ('2N', 'standard 2 no-trump opening (20-21 hcp)') if with_description else '1N'\n",
    "        return ('pass', 'opening pass: <= 12 points, no 6-card suit') if with_description else 'pass'\n",
    "    # 1-level overcall case: previous opponent opened\n",
    "    elif bids[:-1] == ['pass']*(len(bids)-1):\n",
    "        opp_bid = bids[-1]\n",
    "        if opp_bid[0] == '1' and opp_bid != '1N':\n",
    "            if suit_map[long_major] > suit_map[opp_bid[1]] and counts[long_major] >= 5 and points >= 9:\n",
    "                return ('1'+long_major, 'standard 1-level overcall') if with_description else '1'+long_major\n",
    "            elif opp_bid[1] != 'S' and counts['S'] >= 5 and points >= 9:\n",
    "                return ('1S', 'standard 1-level overcall') if with_description else '1S'\n",
    "            elif 15 <= hcp <= 18 and stoppers[opp_bid[1]] >= 1:\n",
    "                return ('1N', '1 no trump overcall') if with_description else '1N'\n",
    "            else: # not strong enough to overcall\n",
    "                return ('pass', '1-level overcall declined-weak hand') if with_description else 'pass'\n",
    "        else:\n",
    "            return 'TODO'\n",
    "    # partner opens, no opponent overcall, no passed hand\n",
    "    # 2/1 game forcing case\n",
    "    elif len(bids) >= 2 and (bids == ['pass', bids[-2], 'pass'] or bids == [bids[-2], 'pass']):\n",
    "        partner_level, partner_suit = bids[-2][0], bids[-2][1]\n",
    "        if partner_level == 1:\n",
    "            if points >= 13 and partner_suit in 'DHS':\n",
    "                if partner_suit == 'S' and counts['H'] >= 5:\n",
    "                    return ('2H', '2/1 game forcing, >= 13 points + 5H') if with_description else '2H'\n",
    "                elif partner_suit in 'HS' and counts['D'] > counts['S']:\n",
    "                    return ('2D', '2/1 game forcing, >= 13 points, diamonds preferred') if with_description else '2D'\n",
    "                return ('2C', '2/1 game forcing, >= 13 points, 2C response') if with_description else '2C'\n",
    "            elif 6 <= points <= 12 and partner_suit in 'HS':\n",
    "                return ('1N', '2/1 game forcing, 6-12 points, 1NT response') if with_description else '1N'\n",
    "        else:\n",
    "            return 'TODO'\n",
    "    # 2/1 game forcing: opener response to forcing 1NT\n",
    "    elif set(ropp) == {'pass'} and set(lopp) == {'pass'} and mine[0] in ['1H','1S'] and partner == ['1N']:\n",
    "        orig_suit = mine[0][1]\n",
    "        other_major = 'H' if orig_suit == 'S' else 'S'\n",
    "        if counts[orig_suit] >= 6:\n",
    "            return ('2'+orig_suit, '2/1 forcing response to 1NT, rebid same major suit') if with_description else '2'+orig_suit\n",
    "        elif counts[other_major] >= 4:\n",
    "            return ('2'+other_major, '2/1 forcing response to 1NT, bid other major') if with_description else '2'+other_major\n",
    "        elif 18 <= points <= 19:\n",
    "            return ('2N', '2/1 forcing response to 1NT, bid 2NT') if with_description else '2N'\n",
    "        else: \n",
    "            return ('2'+long_minor, '2/1 forcing response to 1NT, bid long minor') if with_description else '2'+long_minor\n",
    "    # Stayman part 1: partner opens/overcalls 1NT or 2NT, right opponent passes\n",
    "    # promises 8 HCP for 1NT, 5 HCP for 2NT + 4 cards in a major suit\n",
    "    elif len(partner) > 0 and partner[-1] in ['1N', '2N'] and ropp[-1] == 'pass' \\\n",
    "         and (lopp[-1] != 'pass' or bids[:-2] == ['pass']*(len(bids)-2)) \\\n",
    "         and my_hcp >= (8 if partner[-1] == '1N' else 5) and counts[long_major] >= 4:\n",
    "        if partner[-1] == '1N':\n",
    "            return ('2C', 'Stayman stage 1 response to 1NT open/overcall') if with_description else '2C'\n",
    "        elif partner[-1] == '2N':\n",
    "            return ('3C', 'Stayman stage 1 response to 1NT open/overcall') if with_description else '3C'\n",
    "    # Stayman part 2: response to part 1 of Stayman sequence\n",
    "    elif ((partner[-1] == '2C' and mine[-1] == '1N') or (partner[-1] == '3C' and mine[-1] == '2N')) \\\n",
    "         and ropp[-1] == 'pass' and (ropp[-2] == 'pass' or bids[:-4] == ['pass']*(len(bids)-4)):\n",
    "        if counts[long_major] >= 4:\n",
    "            return (partner[-1][0]+long_major, 'Stayman stage 2 response indicating 4-card major') if with_description else partner[-1][0]+long_major\n",
    "        else:\n",
    "            return (partner[-1][0]+'D', 'Stayman stage 2 response indicating no 4-card major') if with_description else partner[-1][0]+'D'\n",
    "    else:\n",
    "        return 'TODO'"
   ]
  },
  {
   "cell_type": "code",
   "execution_count": 33,
   "metadata": {},
   "outputs": [],
   "source": [
    "hands = deal_hands()"
   ]
  },
  {
   "cell_type": "code",
   "execution_count": 28,
   "metadata": {},
   "outputs": [
    {
     "name": "stdout",
     "output_type": "stream",
     "text": [
      "['2C', '3C', '6C', '8C', '7D', '9D', 'JD', 'AD', '4H', '6H', 'AH', 'KS', 'AS']\n"
     ]
    },
    {
     "data": {
      "text/plain": [
       "('1N', 'standard 1 no-trump opening (15-17 hcp)')"
      ]
     },
     "execution_count": 28,
     "metadata": {},
     "output_type": "execute_result"
    }
   ],
   "source": [
    "hands = deal_hands()\n",
    "print(hands[0])\n",
    "make_bid1(hands[0], [], True)"
   ]
  },
  {
   "cell_type": "code",
   "execution_count": 34,
   "metadata": {},
   "outputs": [
    {
     "data": {
      "text/plain": [
       "('pass', 'opening pass: <= 12 points, no 6-card suit')"
      ]
     },
     "execution_count": 34,
     "metadata": {},
     "output_type": "execute_result"
    }
   ],
   "source": [
    "make_bid1(hands[0], [], True)"
   ]
  },
  {
   "cell_type": "code",
   "execution_count": 35,
   "metadata": {},
   "outputs": [
    {
     "data": {
      "text/plain": [
       "('1H', 'standard 1-level major opening')"
      ]
     },
     "execution_count": 35,
     "metadata": {},
     "output_type": "execute_result"
    }
   ],
   "source": [
    "make_bid1(hands[1], ['pass'], True)"
   ]
  },
  {
   "cell_type": "code",
   "execution_count": 36,
   "metadata": {},
   "outputs": [
    {
     "data": {
      "text/plain": [
       "('1S', 'standard 1-level overcall')"
      ]
     },
     "execution_count": 36,
     "metadata": {},
     "output_type": "execute_result"
    }
   ],
   "source": [
    "make_bid1(hands[2], ['pass', '1H'], True)"
   ]
  },
  {
   "cell_type": "code",
   "execution_count": 37,
   "metadata": {},
   "outputs": [
    {
     "data": {
      "text/plain": [
       "'TODO'"
      ]
     },
     "execution_count": 37,
     "metadata": {},
     "output_type": "execute_result"
    }
   ],
   "source": [
    "make_bid1(hands[3], ['pass', '1H', '1S'], True)"
   ]
  },
  {
   "cell_type": "code",
   "execution_count": 39,
   "metadata": {},
   "outputs": [
    {
     "data": {
      "text/plain": [
       "['2C', '6C', 'TC', '3D', 'JD', 'KD', 'AD', '3H', '4S', '5S', '6S', '8S', 'TS']"
      ]
     },
     "execution_count": 39,
     "metadata": {},
     "output_type": "execute_result"
    }
   ],
   "source": [
    "hands[2]"
   ]
  },
  {
   "cell_type": "code",
   "execution_count": null,
   "metadata": {},
   "outputs": [],
   "source": []
  }
 ],
 "metadata": {
  "kernelspec": {
   "display_name": "Python 3",
   "language": "python",
   "name": "python3"
  },
  "language_info": {
   "codemirror_mode": {
    "name": "ipython",
    "version": 3
   },
   "file_extension": ".py",
   "mimetype": "text/x-python",
   "name": "python",
   "nbconvert_exporter": "python",
   "pygments_lexer": "ipython3",
   "version": "3.6.8"
  }
 },
 "nbformat": 4,
 "nbformat_minor": 2
}
